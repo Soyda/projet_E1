{
 "cells": [
  {
   "cell_type": "code",
   "execution_count": 1,
   "metadata": {},
   "outputs": [],
   "source": [
    "import os"
   ]
  },
  {
   "cell_type": "code",
   "execution_count": 4,
   "metadata": {},
   "outputs": [],
   "source": [
    "os.getenv(\"SECRET_KEY\")"
   ]
  },
  {
   "cell_type": "code",
   "execution_count": 1,
   "metadata": {},
   "outputs": [
    {
     "ename": "NameError",
     "evalue": "name '__file__' is not defined",
     "output_type": "error",
     "traceback": [
      "\u001b[1;31m---------------------------------------------------------------------------\u001b[0m",
      "\u001b[1;31mNameError\u001b[0m                                 Traceback (most recent call last)",
      "Cell \u001b[1;32mIn[1], line 3\u001b[0m\n\u001b[0;32m      1\u001b[0m \u001b[39mimport\u001b[39;00m \u001b[39mpathlib\u001b[39;00m\n\u001b[1;32m----> 3\u001b[0m CURRENT_DIR \u001b[39m=\u001b[39m pathlib\u001b[39m.\u001b[39mPath(\u001b[39m__file__\u001b[39;49m)\u001b[39m.\u001b[39mresolve()\u001b[39m.\u001b[39mparent\n\u001b[0;32m      4\u001b[0m BASE_DIR \u001b[39m=\u001b[39m CURRENT_DIR\u001b[39m.\u001b[39mparent\n\u001b[0;32m      5\u001b[0m ENV_FILE_PATH \u001b[39m=\u001b[39m BASE_DIR \u001b[39m/\u001b[39m \u001b[39m\"\u001b[39m\u001b[39m.env\u001b[39m\u001b[39m\"\u001b[39m\n",
      "\u001b[1;31mNameError\u001b[0m: name '__file__' is not defined"
     ]
    }
   ],
   "source": [
    "import pathlib\n",
    "\n",
    "CURRENT_DIR = pathlib.Path(__file__).resolve().parent\n",
    "BASE_DIR = CURRENT_DIR.parent\n",
    "ENV_FILE_PATH = BASE_DIR / \".env\""
   ]
  },
  {
   "cell_type": "code",
   "execution_count": null,
   "metadata": {},
   "outputs": [],
   "source": []
  }
 ],
 "metadata": {
  "kernelspec": {
   "display_name": "venv",
   "language": "python",
   "name": "python3"
  },
  "language_info": {
   "codemirror_mode": {
    "name": "ipython",
    "version": 3
   },
   "file_extension": ".py",
   "mimetype": "text/x-python",
   "name": "python",
   "nbconvert_exporter": "python",
   "pygments_lexer": "ipython3",
   "version": "3.8.8"
  },
  "orig_nbformat": 4,
  "vscode": {
   "interpreter": {
    "hash": "0bfb93c309f2ac5afb2fa0cf5471761292606b7c622b542ed67b100ca188adf4"
   }
  }
 },
 "nbformat": 4,
 "nbformat_minor": 2
}
